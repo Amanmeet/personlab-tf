{
 "cells": [
  {
   "cell_type": "markdown",
   "metadata": {
    "colab_type": "text",
    "id": "zAa_n9cs0zta"
   },
   "source": [
    "# Preparation"
   ]
  },
  {
   "cell_type": "code",
   "execution_count": null,
   "metadata": {
    "colab": {
     "autoexec": {
      "startup": false,
      "wait_interval": 0
     }
    },
    "colab_type": "code",
    "id": "bzkBSlC4Aznp"
   },
   "outputs": [],
   "source": [
    "import time\n",
    "prep_start_time = time.time()"
   ]
  },
  {
   "cell_type": "code",
   "execution_count": null,
   "metadata": {
    "colab": {
     "autoexec": {
      "startup": false,
      "wait_interval": 0
     }
    },
    "colab_type": "code",
    "id": "Qc059TLShCap"
   },
   "outputs": [],
   "source": [
    "!mkdir pretrained\n",
    "!mkdir dataset\n",
    "!mkdir logs"
   ]
  },
  {
   "cell_type": "code",
   "execution_count": null,
   "metadata": {
    "colab": {
     "autoexec": {
      "startup": false,
      "wait_interval": 0
     }
    },
    "colab_type": "code",
    "id": "ZjcSEs70k18U"
   },
   "outputs": [],
   "source": [
    "!rm -r pretrained/mobilenet\n",
    "!mkdir pretrained/mobilenet\n",
    "!wget https://storage.googleapis.com/mobilenet_v2/checkpoints/mobilenet_v2_1.0_224.tgz -O pretrained/mobilenet_v2_1.0_224.tgz\n",
    "!tar -xvf pretrained/mobilenet_v2_1.0_224.tgz -C pretrained/mobilenet/\n",
    "!rm pretrained/mobilenet_v2_1.0_224.tgz"
   ]
  },
  {
   "cell_type": "code",
   "execution_count": null,
   "metadata": {
    "colab": {
     "autoexec": {
      "startup": false,
      "wait_interval": 0
     }
    },
    "colab_type": "code",
    "id": "ZqeUuBA-_7o6"
   },
   "outputs": [],
   "source": [
    "!rm -r pretrained/resnet\n",
    "!mkdir pretrained/resnet\n",
    "!wget http://download.tensorflow.org/models/resnet_v2_101_2017_04_14.tar.gz -O pretrained/resnet_v2_101_2017_04_14.tar.gz\n",
    "!tar -xvf pretrained/resnet_v2_101_2017_04_14.tar.gz -C pretrained/resnet/\n",
    "!rm pretrained/resnet_v2_101_2017_04_14.tar.gz"
   ]
  },
  {
   "cell_type": "code",
   "execution_count": null,
   "metadata": {},
   "outputs": [],
   "source": [
    "!mkdir dataset/coco\n",
    "!wget http://images.cocodataset.org/zips/train2017.zip -O dataset/coco/train2017.zip\n",
    "!wget http://images.cocodataset.org/zips/val2017.zip -O dataset/coco/val2017.zip\n",
    "!wget http://images.cocodataset.org/annotations/annotations_trainval2017.zip -O dataset/coco/annotations_trainval2017.zip\n",
    "!unzip -q \"dataset/coco/*.zip\""
   ]
  },
  {
   "cell_type": "code",
   "execution_count": null,
   "metadata": {},
   "outputs": [],
   "source": [
    "!pip install -r requirements.txt"
   ]
  },
  {
   "cell_type": "code",
   "execution_count": null,
   "metadata": {},
   "outputs": [],
   "source": []
  }
 ],
 "metadata": {
  "accelerator": "GPU",
  "colab": {
   "collapsed_sections": [],
   "default_view": {},
   "name": "mobilenet-single.ipynb",
   "private_outputs": true,
   "provenance": [],
   "version": "0.3.2",
   "views": {}
  },
  "kernelspec": {
   "display_name": "Python 3",
   "language": "python",
   "name": "python3"
  },
  "language_info": {
   "codemirror_mode": {
    "name": "ipython",
    "version": 3
   },
   "file_extension": ".py",
   "mimetype": "text/x-python",
   "name": "python",
   "nbconvert_exporter": "python",
   "pygments_lexer": "ipython3",
   "version": "3.6.6"
  }
 },
 "nbformat": 4,
 "nbformat_minor": 1
}
