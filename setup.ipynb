{
 "cells": [
  {
   "cell_type": "markdown",
   "metadata": {
    "colab_type": "text",
    "id": "zAa_n9cs0zta"
   },
   "source": [
    "# Preparation"
   ]
  },
  {
   "cell_type": "code",
   "execution_count": 1,
   "metadata": {
    "colab": {
     "autoexec": {
      "startup": false,
      "wait_interval": 0
     }
    },
    "colab_type": "code",
    "id": "bzkBSlC4Aznp"
   },
   "outputs": [],
   "source": [
    "import time\n",
    "prep_start_time = time.time()"
   ]
  },
  {
   "cell_type": "code",
   "execution_count": 1,
   "metadata": {
    "colab": {
     "autoexec": {
      "startup": false,
      "wait_interval": 0
     }
    },
    "colab_type": "code",
    "id": "Qc059TLShCap"
   },
   "outputs": [
    {
     "name": "stdout",
     "output_type": "stream",
     "text": [
      "mkdir: pretrained: File exists\n",
      "mkdir: dataset: File exists\n",
      "mkdir: logs: File exists\n"
     ]
    }
   ],
   "source": [
    "!mkdir pretrained\n",
    "!mkdir dataset\n",
    "!mkdir logs"
   ]
  },
  {
   "cell_type": "code",
   "execution_count": 3,
   "metadata": {
    "colab": {
     "autoexec": {
      "startup": false,
      "wait_interval": 0
     }
    },
    "colab_type": "code",
    "id": "ZjcSEs70k18U"
   },
   "outputs": [
    {
     "name": "stdout",
     "output_type": "stream",
     "text": [
      "rm: cannot remove 'pretrained/mobilenet': No such file or directory\n",
      "--2018-08-29 01:31:47--  https://storage.googleapis.com/mobilenet_v2/checkpoints/mobilenet_v2_1.0_224.tgz\n",
      "Resolving storage.googleapis.com (storage.googleapis.com)... 172.217.26.48, 2404:6800:4004:801::2010\n",
      "Connecting to storage.googleapis.com (storage.googleapis.com)|172.217.26.48|:443... connected.\n",
      "HTTP request sent, awaiting response... 200 OK\n",
      "Length: 78306834 (75M) [application/x-tar]\n",
      "Saving to: ‘pretrained/mobilenet_v2_1.0_224.tgz’\n",
      "\n",
      "pretrained/mobilene 100%[===================>]  74.68M  36.3MB/s    in 2.1s    \n",
      "\n",
      "2018-08-29 01:31:50 (36.3 MB/s) - ‘pretrained/mobilenet_v2_1.0_224.tgz’ saved [78306834/78306834]\n",
      "\n",
      "./\n",
      "./mobilenet_v2_1.0_224_eval.pbtxt\n",
      "./mobilenet_v2_1.0_224.ckpt.data-00000-of-00001\n",
      "./mobilenet_v2_1.0_224_frozen.pb\n",
      "./mobilenet_v2_1.0_224.tflite\n",
      "./mobilenet_v2_1.0_224_info.txt\n",
      "./mobilenet_v2_1.0_224.ckpt.meta\n",
      "./mobilenet_v2_1.0_224.ckpt.index\n"
     ]
    }
   ],
   "source": [
    "!rm -r pretrained/mobilenet\n",
    "!mkdir pretrained/mobilenet\n",
    "!wget https://storage.googleapis.com/mobilenet_v2/checkpoints/mobilenet_v2_1.0_224.tgz -O pretrained/mobilenet_v2_1.0_224.tgz\n",
    "!tar -xvf pretrained/mobilenet_v2_1.0_224.tgz -C pretrained/mobilenet/\n",
    "!rm pretrained/mobilenet_v2_1.0_224.tgz"
   ]
  },
  {
   "cell_type": "code",
   "execution_count": 1,
   "metadata": {
    "colab": {
     "autoexec": {
      "startup": false,
      "wait_interval": 0
     }
    },
    "colab_type": "code",
    "id": "ZqeUuBA-_7o6"
   },
   "outputs": [
    {
     "name": "stdout",
     "output_type": "stream",
     "text": [
      "rm: pretrained/resnet: No such file or directory\n",
      "--2018-07-10 15:10:59--  http://download.tensorflow.org/models/resnet_v2_101_2017_04_14.tar.gz\n",
      "Resolving download.tensorflow.org... 172.217.161.48\n",
      "Connecting to download.tensorflow.org|172.217.161.48|:80... connected.\n",
      "HTTP request sent, awaiting response... 200 OK\n",
      "Length: 499948384 (477M) [application/x-tar]\n",
      "Saving to: ‘pretrained/resnet_v2_101_2017_04_14.tar.gz’\n",
      "\n",
      "pretrained/resnet_v 100%[===================>] 476.79M  10.8MB/s    in 49s     \n",
      "\n",
      "2018-07-10 15:11:49 (9.78 MB/s) - ‘pretrained/resnet_v2_101_2017_04_14.tar.gz’ saved [499948384/499948384]\n",
      "\n",
      "x resnet_v2_101.ckpt\n",
      "x train.graph\n",
      "x eval.graph\n"
     ]
    }
   ],
   "source": [
    "!rm -r pretrained/resnet\n",
    "!mkdir pretrained/resnet\n",
    "!wget http://download.tensorflow.org/models/resnet_v2_101_2017_04_14.tar.gz -O pretrained/resnet_v2_101_2017_04_14.tar.gz\n",
    "!tar -xvf pretrained/resnet_v2_101_2017_04_14.tar.gz -C pretrained/resnet/\n",
    "!rm pretrained/resnet_v2_101_2017_04_14.tar.gz"
   ]
  },
  {
   "cell_type": "code",
   "execution_count": null,
   "metadata": {},
   "outputs": [],
   "source": [
    "!mkdir dataset/coco\n",
    "!wget http://images.cocodataset.org/zips/train2017.zip -O dataset/coco/train2017.zip\n",
    "!wget http://images.cocodataset.org/zips/val2017.zip -O dataset/coco/val2017.zip\n",
    "!wget http://images.cocodataset.org/annotations/annotations_trainval2017.zip -O dataset/coco/annotations_trainval2017.zip\n",
    "!unzip dataset/coco/*.zip"
   ]
  },
  {
   "cell_type": "code",
   "execution_count": 3,
   "metadata": {},
   "outputs": [
    {
     "name": "stdout",
     "output_type": "stream",
     "text": [
      "Requirement already satisfied: scikit-image in /Users/minsubsim/.virtualenvs/cv/lib/python3.6/site-packages (0.13.1)\n",
      "Requirement already satisfied: matplotlib>=1.3.1 in /Users/minsubsim/.virtualenvs/cv/lib/python3.6/site-packages (from scikit-image) (2.2.2)\n",
      "Requirement already satisfied: networkx>=1.8 in /Users/minsubsim/.virtualenvs/cv/lib/python3.6/site-packages (from scikit-image) (2.1)\n",
      "Requirement already satisfied: pillow>=2.1.0 in /Users/minsubsim/.virtualenvs/cv/lib/python3.6/site-packages (from scikit-image) (5.1.0)\n",
      "Requirement already satisfied: six>=1.7.3 in /Users/minsubsim/.virtualenvs/cv/lib/python3.6/site-packages (from scikit-image) (1.11.0)\n",
      "Requirement already satisfied: PyWavelets>=0.4.0 in /Users/minsubsim/.virtualenvs/cv/lib/python3.6/site-packages (from scikit-image) (0.5.2)\n",
      "Requirement already satisfied: scipy>=0.17.0 in /Users/minsubsim/.virtualenvs/cv/lib/python3.6/site-packages (from scikit-image) (1.0.1)\n",
      "Requirement already satisfied: pytz in /Users/minsubsim/.virtualenvs/cv/lib/python3.6/site-packages (from matplotlib>=1.3.1->scikit-image) (2018.4)\n",
      "Requirement already satisfied: python-dateutil>=2.1 in /Users/minsubsim/.virtualenvs/cv/lib/python3.6/site-packages (from matplotlib>=1.3.1->scikit-image) (2.7.2)\n",
      "Requirement already satisfied: kiwisolver>=1.0.1 in /Users/minsubsim/.virtualenvs/cv/lib/python3.6/site-packages (from matplotlib>=1.3.1->scikit-image) (1.0.1)\n",
      "Requirement already satisfied: numpy>=1.7.1 in /Users/minsubsim/.virtualenvs/cv/lib/python3.6/site-packages (from matplotlib>=1.3.1->scikit-image) (1.14.3)\n",
      "Requirement already satisfied: cycler>=0.10 in /Users/minsubsim/.virtualenvs/cv/lib/python3.6/site-packages (from matplotlib>=1.3.1->scikit-image) (0.10.0)\n",
      "Requirement already satisfied: pyparsing!=2.0.4,!=2.1.2,!=2.1.6,>=2.0.1 in /Users/minsubsim/.virtualenvs/cv/lib/python3.6/site-packages (from matplotlib>=1.3.1->scikit-image) (2.2.0)\n",
      "Requirement already satisfied: decorator>=4.1.0 in /Users/minsubsim/.virtualenvs/cv/lib/python3.6/site-packages (from networkx>=1.8->scikit-image) (4.3.0)\n",
      "Requirement already satisfied: setuptools in /Users/minsubsim/.virtualenvs/cv/lib/python3.6/site-packages (from kiwisolver>=1.0.1->matplotlib>=1.3.1->scikit-image) (39.1.0)\n",
      "\u001b[33mYou are using pip version 10.0.1, however version 18.0 is available.\n",
      "You should consider upgrading via the 'pip install --upgrade pip' command.\u001b[0m\n",
      "Requirement already satisfied: pycocotools in /Users/minsubsim/.virtualenvs/cv/lib/python3.6/site-packages (2.0.0)\n",
      "\u001b[33mYou are using pip version 10.0.1, however version 18.0 is available.\n",
      "You should consider upgrading via the 'pip install --upgrade pip' command.\u001b[0m\n"
     ]
    }
   ],
   "source": [
    "!pip install scikit-image\n",
    "!pip install pycocotools"
   ]
  }
 ],
 "metadata": {
  "accelerator": "GPU",
  "colab": {
   "collapsed_sections": [],
   "default_view": {},
   "name": "mobilenet-single.ipynb",
   "private_outputs": true,
   "provenance": [],
   "version": "0.3.2",
   "views": {}
  },
  "kernelspec": {
   "display_name": "Python 3",
   "language": "python",
   "name": "python3"
  },
  "language_info": {
   "codemirror_mode": {
    "name": "ipython",
    "version": 3
   },
   "file_extension": ".py",
   "mimetype": "text/x-python",
   "name": "python",
   "nbconvert_exporter": "python",
   "pygments_lexer": "ipython3",
   "version": "3.6.5"
  }
 },
 "nbformat": 4,
 "nbformat_minor": 1
}
