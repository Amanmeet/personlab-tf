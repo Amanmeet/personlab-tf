{
 "cells": [
  {
   "cell_type": "markdown",
   "metadata": {
    "colab_type": "text",
    "id": "zAa_n9cs0zta"
   },
   "source": [
    "# Preparation"
   ]
  },
  {
   "cell_type": "code",
   "execution_count": 1,
   "metadata": {
    "colab": {
     "autoexec": {
      "startup": false,
      "wait_interval": 0
     }
    },
    "colab_type": "code",
    "id": "bzkBSlC4Aznp"
   },
   "outputs": [],
   "source": [
    "import time\n",
    "prep_start_time = time.time()"
   ]
  },
  {
   "cell_type": "code",
   "execution_count": 2,
   "metadata": {
    "colab": {
     "autoexec": {
      "startup": false,
      "wait_interval": 0
     }
    },
    "colab_type": "code",
    "id": "Qc059TLShCap"
   },
   "outputs": [],
   "source": [
    "!mkdir pretrained\n",
    "!mkdir dataset\n",
    "!mkdir logs"
   ]
  },
  {
   "cell_type": "code",
   "execution_count": 3,
   "metadata": {
    "colab": {
     "autoexec": {
      "startup": false,
      "wait_interval": 0
     }
    },
    "colab_type": "code",
    "id": "ZjcSEs70k18U"
   },
   "outputs": [
    {
     "name": "stdout",
     "output_type": "stream",
     "text": [
      "rm: cannot remove `pretrained/mobilenet': 그런 파일이나 디렉터리가 없습니다\n",
      "--2018-07-08 04:21:36--  https://storage.googleapis.com/mobilenet_v2/checkpoints/mobilenet_v2_1.0_224.tgz\n",
      "Resolving storage.googleapis.com (storage.googleapis.com)... 172.217.25.208, 2404:6800:4004:81b::2010\n",
      "Connecting to storage.googleapis.com (storage.googleapis.com)|172.217.25.208|:443... connected.\n",
      "HTTP request sent, awaiting response... 200 OK\n",
      "Length: 78306834 (75M) [application/x-tar]\n",
      "Saving to: ‘pretrained/mobilenet_v2_1.0_224.tgz’\n",
      "\n",
      "pretrained/mobilene 100%[===================>]  74.68M  40.9MB/s    in 1.8s    \n",
      "\n",
      "2018-07-08 04:21:38 (40.9 MB/s) - ‘pretrained/mobilenet_v2_1.0_224.tgz’ saved [78306834/78306834]\n",
      "\n",
      "./\n",
      "./mobilenet_v2_1.0_224_eval.pbtxt\n",
      "./mobilenet_v2_1.0_224.ckpt.data-00000-of-00001\n",
      "./mobilenet_v2_1.0_224_frozen.pb\n",
      "./mobilenet_v2_1.0_224.tflite\n",
      "./mobilenet_v2_1.0_224_info.txt\n",
      "./mobilenet_v2_1.0_224.ckpt.meta\n",
      "./mobilenet_v2_1.0_224.ckpt.index\n"
     ]
    }
   ],
   "source": [
    "!rm -r pretrained/mobilenet\n",
    "!mkdir pretrained/mobilenet\n",
    "!wget https://storage.googleapis.com/mobilenet_v2/checkpoints/mobilenet_v2_1.0_224.tgz -O pretrained/mobilenet_v2_1.0_224.tgz\n",
    "!tar -xvf pretrained/mobilenet_v2_1.0_224.tgz -C pretrained/mobilenet/\n",
    "!rm pretrained/mobilenet_v2_1.0_224.tgz"
   ]
  },
  {
   "cell_type": "code",
   "execution_count": 1,
   "metadata": {
    "colab": {
     "autoexec": {
      "startup": false,
      "wait_interval": 0
     }
    },
    "colab_type": "code",
    "id": "ZqeUuBA-_7o6"
   },
   "outputs": [
    {
     "name": "stdout",
     "output_type": "stream",
     "text": [
      "rm: pretrained/resnet: No such file or directory\n",
      "--2018-07-10 15:10:59--  http://download.tensorflow.org/models/resnet_v2_101_2017_04_14.tar.gz\n",
      "Resolving download.tensorflow.org... 172.217.161.48\n",
      "Connecting to download.tensorflow.org|172.217.161.48|:80... connected.\n",
      "HTTP request sent, awaiting response... 200 OK\n",
      "Length: 499948384 (477M) [application/x-tar]\n",
      "Saving to: ‘pretrained/resnet_v2_101_2017_04_14.tar.gz’\n",
      "\n",
      "pretrained/resnet_v 100%[===================>] 476.79M  10.8MB/s    in 49s     \n",
      "\n",
      "2018-07-10 15:11:49 (9.78 MB/s) - ‘pretrained/resnet_v2_101_2017_04_14.tar.gz’ saved [499948384/499948384]\n",
      "\n",
      "x resnet_v2_101.ckpt\n",
      "x train.graph\n",
      "x eval.graph\n"
     ]
    }
   ],
   "source": [
    "!rm -r pretrained/resnet\n",
    "!mkdir pretrained/resnet\n",
    "!wget http://download.tensorflow.org/models/resnet_v2_101_2017_04_14.tar.gz -O pretrained/resnet_v2_101_2017_04_14.tar.gz\n",
    "!tar -xvf pretrained/resnet_v2_101_2017_04_14.tar.gz -C pretrained/resnet/\n",
    "!rm pretrained/resnet_v2_101_2017_04_14.tar.gz"
   ]
  },
  {
   "cell_type": "code",
   "execution_count": 7,
   "metadata": {
    "colab": {
     "autoexec": {
      "startup": false,
      "wait_interval": 0
     }
    },
    "colab_type": "code",
    "id": "glPvsoTzAjbb"
   },
   "outputs": [],
   "source": [
    "!rm -r dataset/surreal\n",
    "!mkdir -p dataset/surreal/cmu\n",
    "!aws s3 cp s3://syd-surreal/cmu dataset/surreal/cmu --recursive --only-show-errors"
   ]
  },
  {
   "cell_type": "code",
   "execution_count": 0,
   "metadata": {
    "colab": {
     "autoexec": {
      "startup": false,
      "wait_interval": 0
     }
    },
    "colab_type": "code",
    "id": "_he42bbMA6zB"
   },
   "outputs": [],
   "source": [
    "print('Prep took: ', time.time() - prep_start_time, 'ms')"
   ]
  },
  {
   "cell_type": "code",
   "execution_count": 0,
   "metadata": {
    "colab": {
     "autoexec": {
      "startup": false,
      "wait_interval": 0
     }
    },
    "colab_type": "code",
    "id": "Lnz3SjfPxIP7"
   },
   "outputs": [],
   "source": [
    "!ls -alh"
   ]
  },
  {
   "cell_type": "markdown",
   "metadata": {
    "colab_type": "text",
    "id": "UIqYL-MZ03Z1"
   },
   "source": [
    "# 새 섹션"
   ]
  },
  {
   "cell_type": "code",
   "execution_count": 1,
   "metadata": {
    "colab": {
     "autoexec": {
      "startup": false,
      "wait_interval": 0
     }
    },
    "colab_type": "code",
    "id": "YcWxXF-i04jT"
   },
   "outputs": [
    {
     "name": "stderr",
     "output_type": "stream",
     "text": [
      "/home/ec2-user/anaconda3/envs/tensorflow_p36/lib/python3.6/site-packages/h5py/__init__.py:36: FutureWarning: Conversion of the second argument of issubdtype from `float` to `np.floating` is deprecated. In future, it will be treated as `np.float64 == np.dtype(float).type`.\n",
      "  from ._conv import register_converters as _register_converters\n"
     ]
    }
   ],
   "source": [
    "%load_ext autoreload\n",
    "%autoreload\n",
    "\n",
    "import functools, operator, copy\n",
    "import tensorflow as tf\n",
    "import tensorflow.contrib.slim as slim\n",
    "import numpy as np\n",
    "from personlab import surreal0 as surreal\n",
    "from personlab import config\n",
    "from personlab.nets import resnet_v2\n",
    "from personlab.nets.mobilenet import mobilenet_v2\n",
    "from personlab.tensor_info import INPUT_SINGLE_TENSOR_INFO as INPUT_TENSOR_INFO\n",
    "from personlab.tensor_info import OUTPUT_SINGLE_TENSOR_INFO as OUTPUT_TENSOR_INFO\n",
    "from personlab.display import *\n",
    "tf.reset_default_graph()"
   ]
  },
  {
   "cell_type": "code",
   "execution_count": 2,
   "metadata": {
    "colab_type": "text",
    "id": "oPyf3rsZ042W"
   },
   "outputs": [
    {
     "name": "stdout",
     "output_type": "stream",
     "text": [
      "worker thread start!\n",
      "{'image': <tf.Tensor 'IteratorGetNext:0' shape=(10, 401, 401, 3) dtype=float32>, 'hm': <tf.Tensor 'IteratorGetNext:1' shape=(10, 401, 401, 14) dtype=float32>, 'so_x': <tf.Tensor 'IteratorGetNext:2' shape=(10, 401, 401, 14) dtype=float32>, 'so_y': <tf.Tensor 'IteratorGetNext:3' shape=(10, 401, 401, 14) dtype=float32>, 'mo_x': <tf.Tensor 'IteratorGetNext:4' shape=(10, 401, 401, 28) dtype=float32>, 'mo_y': <tf.Tensor 'IteratorGetNext:5' shape=(10, 401, 401, 28) dtype=float32>}\n"
     ]
    }
   ],
   "source": [
    "surreal_feeder = surreal.SurrealFeeder()\n",
    "surreal_feeder.start()\n",
    "types = tuple(t['type'] for t in INPUT_TENSOR_INFO)\n",
    "input_tensors = tf.data.Dataset.from_generator(surreal_feeder.single_retrive, types) \\\n",
    "                    .batch(config.BATCH_SIZE) \\\n",
    "                    .prefetch(config.PREFETCH_SIZE) \\\n",
    "                    .make_one_shot_iterator() \\\n",
    "                    .get_next()\n",
    "#                    .apply(tf.contrib.data.shuffle_and_repeat(config.SHUFFLE_SIZE, config.REPEAT_COUNT)) \\\n",
    "tensors = {}\n",
    "for tensor, info in zip(input_tensors, INPUT_TENSOR_INFO):\n",
    "    tensor.set_shape(info['shape'])\n",
    "    tensors[info['name']] = tensor\n",
    "print(tensors)"
   ]
  },
  {
   "cell_type": "code",
   "execution_count": 3,
   "metadata": {},
   "outputs": [],
   "source": [
    "config.STRIDE = 8\n",
    "\n",
    "MD_H = int((config.TAR_H-1)//config.STRIDE)+1\n",
    "MD_W = int((config.TAR_W-1)//config.STRIDE)+1\n",
    "\n",
    "DEPTH = [ti['shape'][-1] for ti in OUTPUT_TENSOR_INFO]\n",
    "RESULT_SHAPE = (config.BATCH_SIZE, MD_H, MD_W, sum(DEPTH))\n",
    "RESULT_SIZE = functools.reduce(operator.mul, RESULT_SHAPE[1:])\n",
    "OUTPUT_SHAPE = (config.BATCH_SIZE, config.TAR_H, config.TAR_W, sum(DEPTH))\n",
    "OUTPUT_SIZE = functools.reduce(operator.mul, OUTPUT_SHAPE[1:])\n"
   ]
  },
  {
   "cell_type": "code",
   "execution_count": 4,
   "metadata": {},
   "outputs": [],
   "source": [
    "def bilinear(indices):\n",
    "    oy = tf.clip_by_value(indices[1], 0, MD_H-1-1e-8)\n",
    "    ox = tf.clip_by_value(indices[2], 0, MD_W-1-1e-8)\n",
    "    iy = [tf.floor(oy), tf.ceil(oy + 1e-9)]\n",
    "    ix = [tf.floor(ox), tf.ceil(ox + 1e-9)]\n",
    "    idx_p = []\n",
    "    for y in iy:\n",
    "        for x in ix:\n",
    "            indices[1] = y\n",
    "            indices[2] = x\n",
    "            idx = tf.cast(tf.stack(indices, axis=-1), tf.int32)\n",
    "            p = (1 - tf.abs(y - oy)) * (1 - tf.abs(x - ox))\n",
    "            idx_p.append((idx, p))\n",
    "    return idx_p\n",
    "\n",
    "def gather_bilinear(params, indices):\n",
    "    idx_p = bilinear(indices)\n",
    "    res = []\n",
    "    for idx, p in idx_p:\n",
    "        r = tf.gather_nd(params, idx)\n",
    "        res.append(r * p)\n",
    "    return tf.add_n(res)\n",
    "\n",
    "def scatter_bilinear(params, indices, shape):\n",
    "    idx_p = bilinear(indices)\n",
    "    res = []\n",
    "    for idx, p in idx_p:\n",
    "        r = tf.scatter_nd(idx, params, shape)\n",
    "        if len(r.shape) > len(p.shape):\n",
    "            p = tf.expand_dims(p, axis=-1)\n",
    "        res.append(r * p)\n",
    "    return tf.add_n(res)"
   ]
  },
  {
   "cell_type": "code",
   "execution_count": 5,
   "metadata": {},
   "outputs": [
    {
     "name": "stdout",
     "output_type": "stream",
     "text": [
      "model_output Tensor(\"MobilenetV2/Conv_1/Relu6:0\", shape=(10, 51, 51, 1280), dtype=float32)\n",
      "Tensor(\"Conv/Sigmoid:0\", shape=(10, 51, 51, 14), dtype=float32) Tensor(\"Conv_1/BatchNorm/FusedBatchNorm:0\", shape=(10, 51, 51, 14), dtype=float32) Tensor(\"Conv_2/BatchNorm/FusedBatchNorm:0\", shape=(10, 51, 51, 14), dtype=float32) Tensor(\"Conv_3/BatchNorm/FusedBatchNorm:0\", shape=(10, 51, 51, 28), dtype=float32) Tensor(\"Conv_4/BatchNorm/FusedBatchNorm:0\", shape=(10, 51, 51, 28), dtype=float32)\n",
      "[ 0  1  1  2  3  2  3  4  5  8  8  9 10 11  1  2  3  4  5  8  9  6  7  9\n",
      " 10 11 12 13]\n",
      "Tensor(\"Conv/Sigmoid:0\", shape=(10, 51, 51, 14), dtype=float32) Tensor(\"Conv_1/BatchNorm/FusedBatchNorm:0\", shape=(10, 51, 51, 14), dtype=float32) Tensor(\"Conv_2/BatchNorm/FusedBatchNorm:0\", shape=(10, 51, 51, 14), dtype=float32) Tensor(\"add_12:0\", shape=(10, 51, 51, 28), dtype=float32) Tensor(\"add_15:0\", shape=(10, 51, 51, 28), dtype=float32)\n",
      "Tensor(\"resize_images/ResizeBilinear:0\", shape=(10, 401, 401, 14), dtype=float32) Tensor(\"resize_images_1/ResizeBilinear:0\", shape=(10, 401, 401, 14), dtype=float32) Tensor(\"resize_images_2/ResizeBilinear:0\", shape=(10, 401, 401, 14), dtype=float32) Tensor(\"resize_images_3/ResizeBilinear:0\", shape=(10, 401, 401, 28), dtype=float32) Tensor(\"resize_images_4/ResizeBilinear:0\", shape=(10, 401, 401, 28), dtype=float32)\n",
      "Tensor(\"resize_images/ResizeBilinear:0\", shape=(10, 401, 401, 14), dtype=float32) Tensor(\"mul_32:0\", shape=(10, 401, 401, 14), dtype=float32) Tensor(\"mul_33:0\", shape=(10, 401, 401, 14), dtype=float32) Tensor(\"mul_34:0\", shape=(10, 401, 401, 28), dtype=float32) Tensor(\"mul_35:0\", shape=(10, 401, 401, 28), dtype=float32)\n"
     ]
    }
   ],
   "source": [
    "def resize(tensor):\n",
    "    return tf.image.resize_images(\n",
    "        tensor,\n",
    "        (config.TAR_H, config.TAR_W),\n",
    "        method=tf.image.ResizeMethod.BILINEAR,\n",
    "        align_corners=True)\n",
    "\n",
    "with slim.arg_scope(mobilenet_v2.training_scope(is_training=True)):\n",
    "    model_output, _ = mobilenet_v2.mobilenet_base(tensors['image'], output_stride=config.STRIDE)\n",
    "    print('model_output', model_output)\n",
    "    hm_pred = slim.conv2d(model_output, surreal.NUM_KP, [1, 1], activation_fn=tf.sigmoid)\n",
    "    so_x_pred = slim.conv2d(model_output, surreal.NUM_KP, [1, 1], activation_fn=None)\n",
    "    so_y_pred = slim.conv2d(model_output, surreal.NUM_KP, [1, 1], activation_fn=None)\n",
    "    mo_x_pred = slim.conv2d(model_output, surreal.NUM_EDGE, [1, 1], activation_fn=None)\n",
    "    mo_y_pred = slim.conv2d(model_output, surreal.NUM_EDGE, [1, 1], activation_fn=None)\n",
    "\n",
    "    print(hm_pred, so_x_pred, so_y_pred, mo_x_pred, mo_y_pred)\n",
    "    b, y, x, _ = np.mgrid[:config.BATCH_SIZE, :MD_H, :MD_W, :surreal.NUM_EDGE]\n",
    "    print(surreal.EDGES[:, 0])\n",
    "    i = np.tile(surreal.EDGES[:, 0], [config.BATCH_SIZE, MD_H, MD_W, 1])\n",
    "    for _ in range(config.NUM_RECURRENT):\n",
    "        mo_p = [b, y+mo_y_pred, x+mo_x_pred, i]\n",
    "        mo_x_pred = gather_bilinear(so_x_pred, mo_p) + mo_x_pred\n",
    "        mo_y_pred = gather_bilinear(so_y_pred, mo_p) + mo_y_pred\n",
    "    print(hm_pred, so_x_pred, so_y_pred, mo_x_pred, mo_y_pred)\n",
    "    hm_pred, so_x_pred, so_y_pred, mo_x_pred, mo_y_pred = [resize(x) for x in [hm_pred, so_x_pred, so_y_pred, mo_x_pred, mo_y_pred]]\n",
    "    print(hm_pred, so_x_pred, so_y_pred, mo_x_pred, mo_y_pred)\n",
    "    so_x_pred, so_y_pred, mo_x_pred, mo_y_pred = [x * config.STRIDE for x in [so_x_pred, so_y_pred, mo_x_pred, mo_y_pred]]\n",
    "    print(hm_pred, so_x_pred, so_y_pred, mo_x_pred, mo_y_pred)"
   ]
  },
  {
   "cell_type": "code",
   "execution_count": 6,
   "metadata": {},
   "outputs": [],
   "source": [
    "hm_loss = - tf.reduce_mean(tensors['hm'] * tf.log(hm_pred + 1e-9) + (1 - tensors['hm']) * tf.log(1 - hm_pred + 1e-9))\n",
    "so_loss = tf.abs(tensors['so_x'] - so_x_pred) / config.RADIUS + tf.abs(tensors['so_y'] - so_y_pred) / config.RADIUS\n",
    "mo_loss = tf.abs(tensors['mo_x'] - mo_x_pred) / config.RADIUS + tf.abs(tensors['mo_y'] - mo_y_pred) / config.RADIUS\n",
    "\n",
    "disc_only = tf.cast(tensors['hm'], tf.float32)\n",
    "disc_size = tf.reduce_sum(disc_only, axis=[1, 2]) + 1e-9\n",
    "so_loss = tf.reduce_mean(tf.reduce_sum(so_loss * disc_only, axis=[1, 2]) / disc_size)\n",
    "\n",
    "disc_only = tf.cast(tf.gather(tensors['hm'], surreal.EDGES[:, 0], axis=-1), tf.float32)\n",
    "disc_size = tf.reduce_sum(disc_only, axis=[1, 2]) + 1e-9\n",
    "mo_loss = tf.reduce_mean(tf.reduce_sum(mo_loss * disc_only, axis=[1, 2]) / disc_size)"
   ]
  },
  {
   "cell_type": "code",
   "execution_count": 7,
   "metadata": {},
   "outputs": [],
   "source": [
    "total_loss = hm_loss * 4.0 + so_loss * 1.0 + mo_loss * 0.5"
   ]
  },
  {
   "cell_type": "code",
   "execution_count": 8,
   "metadata": {},
   "outputs": [
    {
     "data": {
      "text/plain": [
       "<tf.Tensor 'sum:0' shape=() dtype=string>"
      ]
     },
     "execution_count": 8,
     "metadata": {},
     "output_type": "execute_result"
    }
   ],
   "source": [
    "b_i, kp_i = 0, 0\n",
    "args = [tensors['image'][b_i], hm_pred[b_i], tensors['hm'][b_i],\n",
    "        mo_x_pred[b_i], mo_y_pred[b_i]]\n",
    "image_tensor1 = tf.py_func(summary_image, args, tf.float32)\n",
    "image_tensor1.set_shape([None, None, 4])\n",
    "tf.summary.image('sum', tf.expand_dims(image_tensor1, 0))"
   ]
  },
  {
   "cell_type": "code",
   "execution_count": 9,
   "metadata": {
    "scrolled": true
   },
   "outputs": [
    {
     "data": {
      "text/plain": [
       "<tf.Tensor 'losses/total_loss:0' shape=() dtype=string>"
      ]
     },
     "execution_count": 9,
     "metadata": {},
     "output_type": "execute_result"
    }
   ],
   "source": [
    "tf.summary.scalar('losses/hm_loss', hm_loss)\n",
    "tf.summary.scalar('losses/so_loss', so_loss)\n",
    "tf.summary.scalar('losses/mo_loss', mo_loss)\n",
    "tf.summary.scalar('losses/total_loss', total_loss)"
   ]
  },
  {
   "cell_type": "code",
   "execution_count": 10,
   "metadata": {},
   "outputs": [
    {
     "name": "stdout",
     "output_type": "stream",
     "text": [
      "MobilenetV2/Conv/weights : MobilenetV2/Conv/weights:0\n",
      "MobilenetV2/Conv/BatchNorm/gamma : MobilenetV2/Conv/BatchNorm/gamma:0\n",
      "MobilenetV2/Conv/BatchNorm/beta : MobilenetV2/Conv/BatchNorm/beta:0\n",
      "MobilenetV2/Conv/BatchNorm/moving_mean : MobilenetV2/Conv/BatchNorm/moving_mean:0\n",
      "MobilenetV2/Conv/BatchNorm/moving_variance : MobilenetV2/Conv/BatchNorm/moving_variance:0\n",
      "MobilenetV2/expanded_conv/depthwise/depthwise_weights : MobilenetV2/expanded_conv/depthwise/depthwise_weights:0\n",
      "MobilenetV2/expanded_conv/depthwise/BatchNorm/gamma : MobilenetV2/expanded_conv/depthwise/BatchNorm/gamma:0\n",
      "MobilenetV2/expanded_conv/depthwise/BatchNorm/beta : MobilenetV2/expanded_conv/depthwise/BatchNorm/beta:0\n",
      "MobilenetV2/expanded_conv/depthwise/BatchNorm/moving_mean : MobilenetV2/expanded_conv/depthwise/BatchNorm/moving_mean:0\n",
      "MobilenetV2/expanded_conv/depthwise/BatchNorm/moving_variance : MobilenetV2/expanded_conv/depthwise/BatchNorm/moving_variance:0\n",
      "MobilenetV2/expanded_conv/project/weights : MobilenetV2/expanded_conv/project/weights:0\n",
      "MobilenetV2/expanded_conv/project/BatchNorm/gamma : MobilenetV2/expanded_conv/project/BatchNorm/gamma:0\n",
      "MobilenetV2/expanded_conv/project/BatchNorm/beta : MobilenetV2/expanded_conv/project/BatchNorm/beta:0\n",
      "MobilenetV2/expanded_conv/project/BatchNorm/moving_mean : MobilenetV2/expanded_conv/project/BatchNorm/moving_mean:0\n",
      "MobilenetV2/expanded_conv/project/BatchNorm/moving_variance : MobilenetV2/expanded_conv/project/BatchNorm/moving_variance:0\n",
      "MobilenetV2/expanded_conv_1/expand/weights : MobilenetV2/expanded_conv_1/expand/weights:0\n",
      "MobilenetV2/expanded_conv_1/expand/BatchNorm/gamma : MobilenetV2/expanded_conv_1/expand/BatchNorm/gamma:0\n",
      "MobilenetV2/expanded_conv_1/expand/BatchNorm/beta : MobilenetV2/expanded_conv_1/expand/BatchNorm/beta:0\n",
      "MobilenetV2/expanded_conv_1/expand/BatchNorm/moving_mean : MobilenetV2/expanded_conv_1/expand/BatchNorm/moving_mean:0\n",
      "MobilenetV2/expanded_conv_1/expand/BatchNorm/moving_variance : MobilenetV2/expanded_conv_1/expand/BatchNorm/moving_variance:0\n",
      "MobilenetV2/expanded_conv_1/depthwise/depthwise_weights : MobilenetV2/expanded_conv_1/depthwise/depthwise_weights:0\n",
      "MobilenetV2/expanded_conv_1/depthwise/BatchNorm/gamma : MobilenetV2/expanded_conv_1/depthwise/BatchNorm/gamma:0\n",
      "MobilenetV2/expanded_conv_1/depthwise/BatchNorm/beta : MobilenetV2/expanded_conv_1/depthwise/BatchNorm/beta:0\n",
      "MobilenetV2/expanded_conv_1/depthwise/BatchNorm/moving_mean : MobilenetV2/expanded_conv_1/depthwise/BatchNorm/moving_mean:0\n",
      "MobilenetV2/expanded_conv_1/depthwise/BatchNorm/moving_variance : MobilenetV2/expanded_conv_1/depthwise/BatchNorm/moving_variance:0\n",
      "MobilenetV2/expanded_conv_1/project/weights : MobilenetV2/expanded_conv_1/project/weights:0\n",
      "MobilenetV2/expanded_conv_1/project/BatchNorm/gamma : MobilenetV2/expanded_conv_1/project/BatchNorm/gamma:0\n",
      "MobilenetV2/expanded_conv_1/project/BatchNorm/beta : MobilenetV2/expanded_conv_1/project/BatchNorm/beta:0\n",
      "MobilenetV2/expanded_conv_1/project/BatchNorm/moving_mean : MobilenetV2/expanded_conv_1/project/BatchNorm/moving_mean:0\n",
      "MobilenetV2/expanded_conv_1/project/BatchNorm/moving_variance : MobilenetV2/expanded_conv_1/project/BatchNorm/moving_variance:0\n",
      "MobilenetV2/expanded_conv_2/expand/weights : MobilenetV2/expanded_conv_2/expand/weights:0\n",
      "MobilenetV2/expanded_conv_2/expand/BatchNorm/gamma : MobilenetV2/expanded_conv_2/expand/BatchNorm/gamma:0\n",
      "MobilenetV2/expanded_conv_2/expand/BatchNorm/beta : MobilenetV2/expanded_conv_2/expand/BatchNorm/beta:0\n",
      "MobilenetV2/expanded_conv_2/expand/BatchNorm/moving_mean : MobilenetV2/expanded_conv_2/expand/BatchNorm/moving_mean:0\n",
      "MobilenetV2/expanded_conv_2/expand/BatchNorm/moving_variance : MobilenetV2/expanded_conv_2/expand/BatchNorm/moving_variance:0\n",
      "MobilenetV2/expanded_conv_2/depthwise/depthwise_weights : MobilenetV2/expanded_conv_2/depthwise/depthwise_weights:0\n",
      "MobilenetV2/expanded_conv_2/depthwise/BatchNorm/gamma : MobilenetV2/expanded_conv_2/depthwise/BatchNorm/gamma:0\n",
      "MobilenetV2/expanded_conv_2/depthwise/BatchNorm/beta : MobilenetV2/expanded_conv_2/depthwise/BatchNorm/beta:0\n",
      "MobilenetV2/expanded_conv_2/depthwise/BatchNorm/moving_mean : MobilenetV2/expanded_conv_2/depthwise/BatchNorm/moving_mean:0\n",
      "MobilenetV2/expanded_conv_2/depthwise/BatchNorm/moving_variance : MobilenetV2/expanded_conv_2/depthwise/BatchNorm/moving_variance:0\n",
      "MobilenetV2/expanded_conv_2/project/weights : MobilenetV2/expanded_conv_2/project/weights:0\n",
      "MobilenetV2/expanded_conv_2/project/BatchNorm/gamma : MobilenetV2/expanded_conv_2/project/BatchNorm/gamma:0\n",
      "MobilenetV2/expanded_conv_2/project/BatchNorm/beta : MobilenetV2/expanded_conv_2/project/BatchNorm/beta:0\n",
      "MobilenetV2/expanded_conv_2/project/BatchNorm/moving_mean : MobilenetV2/expanded_conv_2/project/BatchNorm/moving_mean:0\n",
      "MobilenetV2/expanded_conv_2/project/BatchNorm/moving_variance : MobilenetV2/expanded_conv_2/project/BatchNorm/moving_variance:0\n",
      "MobilenetV2/expanded_conv_3/expand/weights : MobilenetV2/expanded_conv_3/expand/weights:0\n",
      "MobilenetV2/expanded_conv_3/expand/BatchNorm/gamma : MobilenetV2/expanded_conv_3/expand/BatchNorm/gamma:0\n",
      "MobilenetV2/expanded_conv_3/expand/BatchNorm/beta : MobilenetV2/expanded_conv_3/expand/BatchNorm/beta:0\n",
      "MobilenetV2/expanded_conv_3/expand/BatchNorm/moving_mean : MobilenetV2/expanded_conv_3/expand/BatchNorm/moving_mean:0\n",
      "MobilenetV2/expanded_conv_3/expand/BatchNorm/moving_variance : MobilenetV2/expanded_conv_3/expand/BatchNorm/moving_variance:0\n",
      "MobilenetV2/expanded_conv_3/depthwise/depthwise_weights : MobilenetV2/expanded_conv_3/depthwise/depthwise_weights:0\n",
      "MobilenetV2/expanded_conv_3/depthwise/BatchNorm/gamma : MobilenetV2/expanded_conv_3/depthwise/BatchNorm/gamma:0\n",
      "MobilenetV2/expanded_conv_3/depthwise/BatchNorm/beta : MobilenetV2/expanded_conv_3/depthwise/BatchNorm/beta:0\n",
      "MobilenetV2/expanded_conv_3/depthwise/BatchNorm/moving_mean : MobilenetV2/expanded_conv_3/depthwise/BatchNorm/moving_mean:0\n",
      "MobilenetV2/expanded_conv_3/depthwise/BatchNorm/moving_variance : MobilenetV2/expanded_conv_3/depthwise/BatchNorm/moving_variance:0\n",
      "MobilenetV2/expanded_conv_3/project/weights : MobilenetV2/expanded_conv_3/project/weights:0\n",
      "MobilenetV2/expanded_conv_3/project/BatchNorm/gamma : MobilenetV2/expanded_conv_3/project/BatchNorm/gamma:0\n",
      "MobilenetV2/expanded_conv_3/project/BatchNorm/beta : MobilenetV2/expanded_conv_3/project/BatchNorm/beta:0\n",
      "MobilenetV2/expanded_conv_3/project/BatchNorm/moving_mean : MobilenetV2/expanded_conv_3/project/BatchNorm/moving_mean:0\n",
      "MobilenetV2/expanded_conv_3/project/BatchNorm/moving_variance : MobilenetV2/expanded_conv_3/project/BatchNorm/moving_variance:0\n",
      "MobilenetV2/expanded_conv_4/expand/weights : MobilenetV2/expanded_conv_4/expand/weights:0\n",
      "MobilenetV2/expanded_conv_4/expand/BatchNorm/gamma : MobilenetV2/expanded_conv_4/expand/BatchNorm/gamma:0\n",
      "MobilenetV2/expanded_conv_4/expand/BatchNorm/beta : MobilenetV2/expanded_conv_4/expand/BatchNorm/beta:0\n",
      "MobilenetV2/expanded_conv_4/expand/BatchNorm/moving_mean : MobilenetV2/expanded_conv_4/expand/BatchNorm/moving_mean:0\n",
      "MobilenetV2/expanded_conv_4/expand/BatchNorm/moving_variance : MobilenetV2/expanded_conv_4/expand/BatchNorm/moving_variance:0\n",
      "MobilenetV2/expanded_conv_4/depthwise/depthwise_weights : MobilenetV2/expanded_conv_4/depthwise/depthwise_weights:0\n",
      "MobilenetV2/expanded_conv_4/depthwise/BatchNorm/gamma : MobilenetV2/expanded_conv_4/depthwise/BatchNorm/gamma:0\n",
      "MobilenetV2/expanded_conv_4/depthwise/BatchNorm/beta : MobilenetV2/expanded_conv_4/depthwise/BatchNorm/beta:0\n",
      "MobilenetV2/expanded_conv_4/depthwise/BatchNorm/moving_mean : MobilenetV2/expanded_conv_4/depthwise/BatchNorm/moving_mean:0\n",
      "MobilenetV2/expanded_conv_4/depthwise/BatchNorm/moving_variance : MobilenetV2/expanded_conv_4/depthwise/BatchNorm/moving_variance:0\n",
      "MobilenetV2/expanded_conv_4/project/weights : MobilenetV2/expanded_conv_4/project/weights:0\n",
      "MobilenetV2/expanded_conv_4/project/BatchNorm/gamma : MobilenetV2/expanded_conv_4/project/BatchNorm/gamma:0\n",
      "MobilenetV2/expanded_conv_4/project/BatchNorm/beta : MobilenetV2/expanded_conv_4/project/BatchNorm/beta:0\n",
      "MobilenetV2/expanded_conv_4/project/BatchNorm/moving_mean : MobilenetV2/expanded_conv_4/project/BatchNorm/moving_mean:0\n",
      "MobilenetV2/expanded_conv_4/project/BatchNorm/moving_variance : MobilenetV2/expanded_conv_4/project/BatchNorm/moving_variance:0\n",
      "MobilenetV2/expanded_conv_5/expand/weights : MobilenetV2/expanded_conv_5/expand/weights:0\n",
      "MobilenetV2/expanded_conv_5/expand/BatchNorm/gamma : MobilenetV2/expanded_conv_5/expand/BatchNorm/gamma:0\n",
      "MobilenetV2/expanded_conv_5/expand/BatchNorm/beta : MobilenetV2/expanded_conv_5/expand/BatchNorm/beta:0\n",
      "MobilenetV2/expanded_conv_5/expand/BatchNorm/moving_mean : MobilenetV2/expanded_conv_5/expand/BatchNorm/moving_mean:0\n",
      "MobilenetV2/expanded_conv_5/expand/BatchNorm/moving_variance : MobilenetV2/expanded_conv_5/expand/BatchNorm/moving_variance:0\n",
      "MobilenetV2/expanded_conv_5/depthwise/depthwise_weights : MobilenetV2/expanded_conv_5/depthwise/depthwise_weights:0\n",
      "MobilenetV2/expanded_conv_5/depthwise/BatchNorm/gamma : MobilenetV2/expanded_conv_5/depthwise/BatchNorm/gamma:0\n",
      "MobilenetV2/expanded_conv_5/depthwise/BatchNorm/beta : MobilenetV2/expanded_conv_5/depthwise/BatchNorm/beta:0\n",
      "MobilenetV2/expanded_conv_5/depthwise/BatchNorm/moving_mean : MobilenetV2/expanded_conv_5/depthwise/BatchNorm/moving_mean:0\n",
      "MobilenetV2/expanded_conv_5/depthwise/BatchNorm/moving_variance : MobilenetV2/expanded_conv_5/depthwise/BatchNorm/moving_variance:0\n",
      "MobilenetV2/expanded_conv_5/project/weights : MobilenetV2/expanded_conv_5/project/weights:0\n",
      "MobilenetV2/expanded_conv_5/project/BatchNorm/gamma : MobilenetV2/expanded_conv_5/project/BatchNorm/gamma:0\n",
      "MobilenetV2/expanded_conv_5/project/BatchNorm/beta : MobilenetV2/expanded_conv_5/project/BatchNorm/beta:0\n",
      "MobilenetV2/expanded_conv_5/project/BatchNorm/moving_mean : MobilenetV2/expanded_conv_5/project/BatchNorm/moving_mean:0\n",
      "MobilenetV2/expanded_conv_5/project/BatchNorm/moving_variance : MobilenetV2/expanded_conv_5/project/BatchNorm/moving_variance:0\n",
      "MobilenetV2/expanded_conv_6/expand/weights : MobilenetV2/expanded_conv_6/expand/weights:0\n",
      "MobilenetV2/expanded_conv_6/expand/BatchNorm/gamma : MobilenetV2/expanded_conv_6/expand/BatchNorm/gamma:0\n",
      "MobilenetV2/expanded_conv_6/expand/BatchNorm/beta : MobilenetV2/expanded_conv_6/expand/BatchNorm/beta:0\n",
      "MobilenetV2/expanded_conv_6/expand/BatchNorm/moving_mean : MobilenetV2/expanded_conv_6/expand/BatchNorm/moving_mean:0\n",
      "MobilenetV2/expanded_conv_6/expand/BatchNorm/moving_variance : MobilenetV2/expanded_conv_6/expand/BatchNorm/moving_variance:0\n",
      "MobilenetV2/expanded_conv_6/depthwise/depthwise_weights : MobilenetV2/expanded_conv_6/depthwise/depthwise_weights:0\n",
      "MobilenetV2/expanded_conv_6/depthwise/BatchNorm/gamma : MobilenetV2/expanded_conv_6/depthwise/BatchNorm/gamma:0\n",
      "MobilenetV2/expanded_conv_6/depthwise/BatchNorm/beta : MobilenetV2/expanded_conv_6/depthwise/BatchNorm/beta:0\n",
      "MobilenetV2/expanded_conv_6/depthwise/BatchNorm/moving_mean : MobilenetV2/expanded_conv_6/depthwise/BatchNorm/moving_mean:0\n",
      "MobilenetV2/expanded_conv_6/depthwise/BatchNorm/moving_variance : MobilenetV2/expanded_conv_6/depthwise/BatchNorm/moving_variance:0\n",
      "MobilenetV2/expanded_conv_6/project/weights : MobilenetV2/expanded_conv_6/project/weights:0\n",
      "MobilenetV2/expanded_conv_6/project/BatchNorm/gamma : MobilenetV2/expanded_conv_6/project/BatchNorm/gamma:0\n",
      "MobilenetV2/expanded_conv_6/project/BatchNorm/beta : MobilenetV2/expanded_conv_6/project/BatchNorm/beta:0\n",
      "MobilenetV2/expanded_conv_6/project/BatchNorm/moving_mean : MobilenetV2/expanded_conv_6/project/BatchNorm/moving_mean:0\n",
      "MobilenetV2/expanded_conv_6/project/BatchNorm/moving_variance : MobilenetV2/expanded_conv_6/project/BatchNorm/moving_variance:0\n",
      "MobilenetV2/expanded_conv_7/expand/weights : MobilenetV2/expanded_conv_7/expand/weights:0\n",
      "MobilenetV2/expanded_conv_7/expand/BatchNorm/gamma : MobilenetV2/expanded_conv_7/expand/BatchNorm/gamma:0\n",
      "MobilenetV2/expanded_conv_7/expand/BatchNorm/beta : MobilenetV2/expanded_conv_7/expand/BatchNorm/beta:0\n",
      "MobilenetV2/expanded_conv_7/expand/BatchNorm/moving_mean : MobilenetV2/expanded_conv_7/expand/BatchNorm/moving_mean:0\n",
      "MobilenetV2/expanded_conv_7/expand/BatchNorm/moving_variance : MobilenetV2/expanded_conv_7/expand/BatchNorm/moving_variance:0\n",
      "MobilenetV2/expanded_conv_7/depthwise/depthwise_weights : MobilenetV2/expanded_conv_7/depthwise/depthwise_weights:0\n",
      "MobilenetV2/expanded_conv_7/depthwise/BatchNorm/gamma : MobilenetV2/expanded_conv_7/depthwise/BatchNorm/gamma:0\n",
      "MobilenetV2/expanded_conv_7/depthwise/BatchNorm/beta : MobilenetV2/expanded_conv_7/depthwise/BatchNorm/beta:0\n",
      "MobilenetV2/expanded_conv_7/depthwise/BatchNorm/moving_mean : MobilenetV2/expanded_conv_7/depthwise/BatchNorm/moving_mean:0\n",
      "MobilenetV2/expanded_conv_7/depthwise/BatchNorm/moving_variance : MobilenetV2/expanded_conv_7/depthwise/BatchNorm/moving_variance:0\n",
      "MobilenetV2/expanded_conv_7/project/weights : MobilenetV2/expanded_conv_7/project/weights:0\n",
      "MobilenetV2/expanded_conv_7/project/BatchNorm/gamma : MobilenetV2/expanded_conv_7/project/BatchNorm/gamma:0\n",
      "MobilenetV2/expanded_conv_7/project/BatchNorm/beta : MobilenetV2/expanded_conv_7/project/BatchNorm/beta:0\n",
      "MobilenetV2/expanded_conv_7/project/BatchNorm/moving_mean : MobilenetV2/expanded_conv_7/project/BatchNorm/moving_mean:0\n",
      "MobilenetV2/expanded_conv_7/project/BatchNorm/moving_variance : MobilenetV2/expanded_conv_7/project/BatchNorm/moving_variance:0\n",
      "MobilenetV2/expanded_conv_8/expand/weights : MobilenetV2/expanded_conv_8/expand/weights:0\n",
      "MobilenetV2/expanded_conv_8/expand/BatchNorm/gamma : MobilenetV2/expanded_conv_8/expand/BatchNorm/gamma:0\n",
      "MobilenetV2/expanded_conv_8/expand/BatchNorm/beta : MobilenetV2/expanded_conv_8/expand/BatchNorm/beta:0\n",
      "MobilenetV2/expanded_conv_8/expand/BatchNorm/moving_mean : MobilenetV2/expanded_conv_8/expand/BatchNorm/moving_mean:0\n",
      "MobilenetV2/expanded_conv_8/expand/BatchNorm/moving_variance : MobilenetV2/expanded_conv_8/expand/BatchNorm/moving_variance:0\n",
      "MobilenetV2/expanded_conv_8/depthwise/depthwise_weights : MobilenetV2/expanded_conv_8/depthwise/depthwise_weights:0\n",
      "MobilenetV2/expanded_conv_8/depthwise/BatchNorm/gamma : MobilenetV2/expanded_conv_8/depthwise/BatchNorm/gamma:0\n",
      "MobilenetV2/expanded_conv_8/depthwise/BatchNorm/beta : MobilenetV2/expanded_conv_8/depthwise/BatchNorm/beta:0\n",
      "MobilenetV2/expanded_conv_8/depthwise/BatchNorm/moving_mean : MobilenetV2/expanded_conv_8/depthwise/BatchNorm/moving_mean:0\n",
      "MobilenetV2/expanded_conv_8/depthwise/BatchNorm/moving_variance : MobilenetV2/expanded_conv_8/depthwise/BatchNorm/moving_variance:0\n",
      "MobilenetV2/expanded_conv_8/project/weights : MobilenetV2/expanded_conv_8/project/weights:0\n",
      "MobilenetV2/expanded_conv_8/project/BatchNorm/gamma : MobilenetV2/expanded_conv_8/project/BatchNorm/gamma:0\n",
      "MobilenetV2/expanded_conv_8/project/BatchNorm/beta : MobilenetV2/expanded_conv_8/project/BatchNorm/beta:0\n",
      "MobilenetV2/expanded_conv_8/project/BatchNorm/moving_mean : MobilenetV2/expanded_conv_8/project/BatchNorm/moving_mean:0\n",
      "MobilenetV2/expanded_conv_8/project/BatchNorm/moving_variance : MobilenetV2/expanded_conv_8/project/BatchNorm/moving_variance:0\n",
      "MobilenetV2/expanded_conv_9/expand/weights : MobilenetV2/expanded_conv_9/expand/weights:0\n",
      "MobilenetV2/expanded_conv_9/expand/BatchNorm/gamma : MobilenetV2/expanded_conv_9/expand/BatchNorm/gamma:0\n",
      "MobilenetV2/expanded_conv_9/expand/BatchNorm/beta : MobilenetV2/expanded_conv_9/expand/BatchNorm/beta:0\n",
      "MobilenetV2/expanded_conv_9/expand/BatchNorm/moving_mean : MobilenetV2/expanded_conv_9/expand/BatchNorm/moving_mean:0\n",
      "MobilenetV2/expanded_conv_9/expand/BatchNorm/moving_variance : MobilenetV2/expanded_conv_9/expand/BatchNorm/moving_variance:0\n",
      "MobilenetV2/expanded_conv_9/depthwise/depthwise_weights : MobilenetV2/expanded_conv_9/depthwise/depthwise_weights:0\n",
      "MobilenetV2/expanded_conv_9/depthwise/BatchNorm/gamma : MobilenetV2/expanded_conv_9/depthwise/BatchNorm/gamma:0\n",
      "MobilenetV2/expanded_conv_9/depthwise/BatchNorm/beta : MobilenetV2/expanded_conv_9/depthwise/BatchNorm/beta:0\n",
      "MobilenetV2/expanded_conv_9/depthwise/BatchNorm/moving_mean : MobilenetV2/expanded_conv_9/depthwise/BatchNorm/moving_mean:0\n",
      "MobilenetV2/expanded_conv_9/depthwise/BatchNorm/moving_variance : MobilenetV2/expanded_conv_9/depthwise/BatchNorm/moving_variance:0\n",
      "MobilenetV2/expanded_conv_9/project/weights : MobilenetV2/expanded_conv_9/project/weights:0\n",
      "MobilenetV2/expanded_conv_9/project/BatchNorm/gamma : MobilenetV2/expanded_conv_9/project/BatchNorm/gamma:0\n",
      "MobilenetV2/expanded_conv_9/project/BatchNorm/beta : MobilenetV2/expanded_conv_9/project/BatchNorm/beta:0\n",
      "MobilenetV2/expanded_conv_9/project/BatchNorm/moving_mean : MobilenetV2/expanded_conv_9/project/BatchNorm/moving_mean:0\n",
      "MobilenetV2/expanded_conv_9/project/BatchNorm/moving_variance : MobilenetV2/expanded_conv_9/project/BatchNorm/moving_variance:0\n",
      "MobilenetV2/expanded_conv_10/expand/weights : MobilenetV2/expanded_conv_10/expand/weights:0\n",
      "MobilenetV2/expanded_conv_10/expand/BatchNorm/gamma : MobilenetV2/expanded_conv_10/expand/BatchNorm/gamma:0\n",
      "MobilenetV2/expanded_conv_10/expand/BatchNorm/beta : MobilenetV2/expanded_conv_10/expand/BatchNorm/beta:0\n",
      "MobilenetV2/expanded_conv_10/expand/BatchNorm/moving_mean : MobilenetV2/expanded_conv_10/expand/BatchNorm/moving_mean:0\n",
      "MobilenetV2/expanded_conv_10/expand/BatchNorm/moving_variance : MobilenetV2/expanded_conv_10/expand/BatchNorm/moving_variance:0\n",
      "MobilenetV2/expanded_conv_10/depthwise/depthwise_weights : MobilenetV2/expanded_conv_10/depthwise/depthwise_weights:0\n",
      "MobilenetV2/expanded_conv_10/depthwise/BatchNorm/gamma : MobilenetV2/expanded_conv_10/depthwise/BatchNorm/gamma:0\n",
      "MobilenetV2/expanded_conv_10/depthwise/BatchNorm/beta : MobilenetV2/expanded_conv_10/depthwise/BatchNorm/beta:0\n",
      "MobilenetV2/expanded_conv_10/depthwise/BatchNorm/moving_mean : MobilenetV2/expanded_conv_10/depthwise/BatchNorm/moving_mean:0\n",
      "MobilenetV2/expanded_conv_10/depthwise/BatchNorm/moving_variance : MobilenetV2/expanded_conv_10/depthwise/BatchNorm/moving_variance:0\n",
      "MobilenetV2/expanded_conv_10/project/weights : MobilenetV2/expanded_conv_10/project/weights:0\n",
      "MobilenetV2/expanded_conv_10/project/BatchNorm/gamma : MobilenetV2/expanded_conv_10/project/BatchNorm/gamma:0\n",
      "MobilenetV2/expanded_conv_10/project/BatchNorm/beta : MobilenetV2/expanded_conv_10/project/BatchNorm/beta:0\n",
      "MobilenetV2/expanded_conv_10/project/BatchNorm/moving_mean : MobilenetV2/expanded_conv_10/project/BatchNorm/moving_mean:0\n",
      "MobilenetV2/expanded_conv_10/project/BatchNorm/moving_variance : MobilenetV2/expanded_conv_10/project/BatchNorm/moving_variance:0\n",
      "MobilenetV2/expanded_conv_11/expand/weights : MobilenetV2/expanded_conv_11/expand/weights:0\n",
      "MobilenetV2/expanded_conv_11/expand/BatchNorm/gamma : MobilenetV2/expanded_conv_11/expand/BatchNorm/gamma:0\n",
      "MobilenetV2/expanded_conv_11/expand/BatchNorm/beta : MobilenetV2/expanded_conv_11/expand/BatchNorm/beta:0\n",
      "MobilenetV2/expanded_conv_11/expand/BatchNorm/moving_mean : MobilenetV2/expanded_conv_11/expand/BatchNorm/moving_mean:0\n",
      "MobilenetV2/expanded_conv_11/expand/BatchNorm/moving_variance : MobilenetV2/expanded_conv_11/expand/BatchNorm/moving_variance:0\n",
      "MobilenetV2/expanded_conv_11/depthwise/depthwise_weights : MobilenetV2/expanded_conv_11/depthwise/depthwise_weights:0\n",
      "MobilenetV2/expanded_conv_11/depthwise/BatchNorm/gamma : MobilenetV2/expanded_conv_11/depthwise/BatchNorm/gamma:0\n",
      "MobilenetV2/expanded_conv_11/depthwise/BatchNorm/beta : MobilenetV2/expanded_conv_11/depthwise/BatchNorm/beta:0\n",
      "MobilenetV2/expanded_conv_11/depthwise/BatchNorm/moving_mean : MobilenetV2/expanded_conv_11/depthwise/BatchNorm/moving_mean:0\n",
      "MobilenetV2/expanded_conv_11/depthwise/BatchNorm/moving_variance : MobilenetV2/expanded_conv_11/depthwise/BatchNorm/moving_variance:0\n",
      "MobilenetV2/expanded_conv_11/project/weights : MobilenetV2/expanded_conv_11/project/weights:0\n",
      "MobilenetV2/expanded_conv_11/project/BatchNorm/gamma : MobilenetV2/expanded_conv_11/project/BatchNorm/gamma:0\n",
      "MobilenetV2/expanded_conv_11/project/BatchNorm/beta : MobilenetV2/expanded_conv_11/project/BatchNorm/beta:0\n",
      "MobilenetV2/expanded_conv_11/project/BatchNorm/moving_mean : MobilenetV2/expanded_conv_11/project/BatchNorm/moving_mean:0\n",
      "MobilenetV2/expanded_conv_11/project/BatchNorm/moving_variance : MobilenetV2/expanded_conv_11/project/BatchNorm/moving_variance:0\n",
      "MobilenetV2/expanded_conv_12/expand/weights : MobilenetV2/expanded_conv_12/expand/weights:0\n",
      "MobilenetV2/expanded_conv_12/expand/BatchNorm/gamma : MobilenetV2/expanded_conv_12/expand/BatchNorm/gamma:0\n",
      "MobilenetV2/expanded_conv_12/expand/BatchNorm/beta : MobilenetV2/expanded_conv_12/expand/BatchNorm/beta:0\n",
      "MobilenetV2/expanded_conv_12/expand/BatchNorm/moving_mean : MobilenetV2/expanded_conv_12/expand/BatchNorm/moving_mean:0\n",
      "MobilenetV2/expanded_conv_12/expand/BatchNorm/moving_variance : MobilenetV2/expanded_conv_12/expand/BatchNorm/moving_variance:0\n",
      "MobilenetV2/expanded_conv_12/depthwise/depthwise_weights : MobilenetV2/expanded_conv_12/depthwise/depthwise_weights:0\n",
      "MobilenetV2/expanded_conv_12/depthwise/BatchNorm/gamma : MobilenetV2/expanded_conv_12/depthwise/BatchNorm/gamma:0\n",
      "MobilenetV2/expanded_conv_12/depthwise/BatchNorm/beta : MobilenetV2/expanded_conv_12/depthwise/BatchNorm/beta:0\n",
      "MobilenetV2/expanded_conv_12/depthwise/BatchNorm/moving_mean : MobilenetV2/expanded_conv_12/depthwise/BatchNorm/moving_mean:0\n",
      "MobilenetV2/expanded_conv_12/depthwise/BatchNorm/moving_variance : MobilenetV2/expanded_conv_12/depthwise/BatchNorm/moving_variance:0\n",
      "MobilenetV2/expanded_conv_12/project/weights : MobilenetV2/expanded_conv_12/project/weights:0\n",
      "MobilenetV2/expanded_conv_12/project/BatchNorm/gamma : MobilenetV2/expanded_conv_12/project/BatchNorm/gamma:0\n",
      "MobilenetV2/expanded_conv_12/project/BatchNorm/beta : MobilenetV2/expanded_conv_12/project/BatchNorm/beta:0\n",
      "MobilenetV2/expanded_conv_12/project/BatchNorm/moving_mean : MobilenetV2/expanded_conv_12/project/BatchNorm/moving_mean:0\n",
      "MobilenetV2/expanded_conv_12/project/BatchNorm/moving_variance : MobilenetV2/expanded_conv_12/project/BatchNorm/moving_variance:0\n",
      "MobilenetV2/expanded_conv_13/expand/weights : MobilenetV2/expanded_conv_13/expand/weights:0\n",
      "MobilenetV2/expanded_conv_13/expand/BatchNorm/gamma : MobilenetV2/expanded_conv_13/expand/BatchNorm/gamma:0\n",
      "MobilenetV2/expanded_conv_13/expand/BatchNorm/beta : MobilenetV2/expanded_conv_13/expand/BatchNorm/beta:0\n",
      "MobilenetV2/expanded_conv_13/expand/BatchNorm/moving_mean : MobilenetV2/expanded_conv_13/expand/BatchNorm/moving_mean:0\n",
      "MobilenetV2/expanded_conv_13/expand/BatchNorm/moving_variance : MobilenetV2/expanded_conv_13/expand/BatchNorm/moving_variance:0\n",
      "MobilenetV2/expanded_conv_13/depthwise/depthwise_weights : MobilenetV2/expanded_conv_13/depthwise/depthwise_weights:0\n",
      "MobilenetV2/expanded_conv_13/depthwise/BatchNorm/gamma : MobilenetV2/expanded_conv_13/depthwise/BatchNorm/gamma:0\n",
      "MobilenetV2/expanded_conv_13/depthwise/BatchNorm/beta : MobilenetV2/expanded_conv_13/depthwise/BatchNorm/beta:0\n",
      "MobilenetV2/expanded_conv_13/depthwise/BatchNorm/moving_mean : MobilenetV2/expanded_conv_13/depthwise/BatchNorm/moving_mean:0\n",
      "MobilenetV2/expanded_conv_13/depthwise/BatchNorm/moving_variance : MobilenetV2/expanded_conv_13/depthwise/BatchNorm/moving_variance:0\n",
      "MobilenetV2/expanded_conv_13/project/weights : MobilenetV2/expanded_conv_13/project/weights:0\n",
      "MobilenetV2/expanded_conv_13/project/BatchNorm/gamma : MobilenetV2/expanded_conv_13/project/BatchNorm/gamma:0\n",
      "MobilenetV2/expanded_conv_13/project/BatchNorm/beta : MobilenetV2/expanded_conv_13/project/BatchNorm/beta:0\n",
      "MobilenetV2/expanded_conv_13/project/BatchNorm/moving_mean : MobilenetV2/expanded_conv_13/project/BatchNorm/moving_mean:0\n",
      "MobilenetV2/expanded_conv_13/project/BatchNorm/moving_variance : MobilenetV2/expanded_conv_13/project/BatchNorm/moving_variance:0\n",
      "MobilenetV2/expanded_conv_14/expand/weights : MobilenetV2/expanded_conv_14/expand/weights:0\n",
      "MobilenetV2/expanded_conv_14/expand/BatchNorm/gamma : MobilenetV2/expanded_conv_14/expand/BatchNorm/gamma:0\n",
      "MobilenetV2/expanded_conv_14/expand/BatchNorm/beta : MobilenetV2/expanded_conv_14/expand/BatchNorm/beta:0\n",
      "MobilenetV2/expanded_conv_14/expand/BatchNorm/moving_mean : MobilenetV2/expanded_conv_14/expand/BatchNorm/moving_mean:0\n",
      "MobilenetV2/expanded_conv_14/expand/BatchNorm/moving_variance : MobilenetV2/expanded_conv_14/expand/BatchNorm/moving_variance:0\n",
      "MobilenetV2/expanded_conv_14/depthwise/depthwise_weights : MobilenetV2/expanded_conv_14/depthwise/depthwise_weights:0\n",
      "MobilenetV2/expanded_conv_14/depthwise/BatchNorm/gamma : MobilenetV2/expanded_conv_14/depthwise/BatchNorm/gamma:0\n",
      "MobilenetV2/expanded_conv_14/depthwise/BatchNorm/beta : MobilenetV2/expanded_conv_14/depthwise/BatchNorm/beta:0\n",
      "MobilenetV2/expanded_conv_14/depthwise/BatchNorm/moving_mean : MobilenetV2/expanded_conv_14/depthwise/BatchNorm/moving_mean:0\n",
      "MobilenetV2/expanded_conv_14/depthwise/BatchNorm/moving_variance : MobilenetV2/expanded_conv_14/depthwise/BatchNorm/moving_variance:0\n",
      "MobilenetV2/expanded_conv_14/project/weights : MobilenetV2/expanded_conv_14/project/weights:0\n",
      "MobilenetV2/expanded_conv_14/project/BatchNorm/gamma : MobilenetV2/expanded_conv_14/project/BatchNorm/gamma:0\n",
      "MobilenetV2/expanded_conv_14/project/BatchNorm/beta : MobilenetV2/expanded_conv_14/project/BatchNorm/beta:0\n",
      "MobilenetV2/expanded_conv_14/project/BatchNorm/moving_mean : MobilenetV2/expanded_conv_14/project/BatchNorm/moving_mean:0\n",
      "MobilenetV2/expanded_conv_14/project/BatchNorm/moving_variance : MobilenetV2/expanded_conv_14/project/BatchNorm/moving_variance:0\n",
      "MobilenetV2/expanded_conv_15/expand/weights : MobilenetV2/expanded_conv_15/expand/weights:0\n",
      "MobilenetV2/expanded_conv_15/expand/BatchNorm/gamma : MobilenetV2/expanded_conv_15/expand/BatchNorm/gamma:0\n",
      "MobilenetV2/expanded_conv_15/expand/BatchNorm/beta : MobilenetV2/expanded_conv_15/expand/BatchNorm/beta:0\n",
      "MobilenetV2/expanded_conv_15/expand/BatchNorm/moving_mean : MobilenetV2/expanded_conv_15/expand/BatchNorm/moving_mean:0\n",
      "MobilenetV2/expanded_conv_15/expand/BatchNorm/moving_variance : MobilenetV2/expanded_conv_15/expand/BatchNorm/moving_variance:0\n",
      "MobilenetV2/expanded_conv_15/depthwise/depthwise_weights : MobilenetV2/expanded_conv_15/depthwise/depthwise_weights:0\n",
      "MobilenetV2/expanded_conv_15/depthwise/BatchNorm/gamma : MobilenetV2/expanded_conv_15/depthwise/BatchNorm/gamma:0\n",
      "MobilenetV2/expanded_conv_15/depthwise/BatchNorm/beta : MobilenetV2/expanded_conv_15/depthwise/BatchNorm/beta:0\n",
      "MobilenetV2/expanded_conv_15/depthwise/BatchNorm/moving_mean : MobilenetV2/expanded_conv_15/depthwise/BatchNorm/moving_mean:0\n",
      "MobilenetV2/expanded_conv_15/depthwise/BatchNorm/moving_variance : MobilenetV2/expanded_conv_15/depthwise/BatchNorm/moving_variance:0\n",
      "MobilenetV2/expanded_conv_15/project/weights : MobilenetV2/expanded_conv_15/project/weights:0\n",
      "MobilenetV2/expanded_conv_15/project/BatchNorm/gamma : MobilenetV2/expanded_conv_15/project/BatchNorm/gamma:0\n",
      "MobilenetV2/expanded_conv_15/project/BatchNorm/beta : MobilenetV2/expanded_conv_15/project/BatchNorm/beta:0\n",
      "MobilenetV2/expanded_conv_15/project/BatchNorm/moving_mean : MobilenetV2/expanded_conv_15/project/BatchNorm/moving_mean:0\n",
      "MobilenetV2/expanded_conv_15/project/BatchNorm/moving_variance : MobilenetV2/expanded_conv_15/project/BatchNorm/moving_variance:0\n",
      "MobilenetV2/expanded_conv_16/expand/weights : MobilenetV2/expanded_conv_16/expand/weights:0\n",
      "MobilenetV2/expanded_conv_16/expand/BatchNorm/gamma : MobilenetV2/expanded_conv_16/expand/BatchNorm/gamma:0\n",
      "MobilenetV2/expanded_conv_16/expand/BatchNorm/beta : MobilenetV2/expanded_conv_16/expand/BatchNorm/beta:0\n",
      "MobilenetV2/expanded_conv_16/expand/BatchNorm/moving_mean : MobilenetV2/expanded_conv_16/expand/BatchNorm/moving_mean:0\n",
      "MobilenetV2/expanded_conv_16/expand/BatchNorm/moving_variance : MobilenetV2/expanded_conv_16/expand/BatchNorm/moving_variance:0\n",
      "MobilenetV2/expanded_conv_16/depthwise/depthwise_weights : MobilenetV2/expanded_conv_16/depthwise/depthwise_weights:0\n",
      "MobilenetV2/expanded_conv_16/depthwise/BatchNorm/gamma : MobilenetV2/expanded_conv_16/depthwise/BatchNorm/gamma:0\n",
      "MobilenetV2/expanded_conv_16/depthwise/BatchNorm/beta : MobilenetV2/expanded_conv_16/depthwise/BatchNorm/beta:0\n",
      "MobilenetV2/expanded_conv_16/depthwise/BatchNorm/moving_mean : MobilenetV2/expanded_conv_16/depthwise/BatchNorm/moving_mean:0\n",
      "MobilenetV2/expanded_conv_16/depthwise/BatchNorm/moving_variance : MobilenetV2/expanded_conv_16/depthwise/BatchNorm/moving_variance:0\n",
      "MobilenetV2/expanded_conv_16/project/weights : MobilenetV2/expanded_conv_16/project/weights:0\n",
      "MobilenetV2/expanded_conv_16/project/BatchNorm/gamma : MobilenetV2/expanded_conv_16/project/BatchNorm/gamma:0\n",
      "MobilenetV2/expanded_conv_16/project/BatchNorm/beta : MobilenetV2/expanded_conv_16/project/BatchNorm/beta:0\n",
      "MobilenetV2/expanded_conv_16/project/BatchNorm/moving_mean : MobilenetV2/expanded_conv_16/project/BatchNorm/moving_mean:0\n",
      "MobilenetV2/expanded_conv_16/project/BatchNorm/moving_variance : MobilenetV2/expanded_conv_16/project/BatchNorm/moving_variance:0\n",
      "MobilenetV2/Conv_1/weights : MobilenetV2/Conv_1/weights:0\n",
      "MobilenetV2/Conv_1/BatchNorm/gamma : MobilenetV2/Conv_1/BatchNorm/gamma:0\n",
      "MobilenetV2/Conv_1/BatchNorm/beta : MobilenetV2/Conv_1/BatchNorm/beta:0\n",
      "MobilenetV2/Conv_1/BatchNorm/moving_mean : MobilenetV2/Conv_1/BatchNorm/moving_mean:0\n",
      "MobilenetV2/Conv_1/BatchNorm/moving_variance : MobilenetV2/Conv_1/BatchNorm/moving_variance:0\n"
     ]
    }
   ],
   "source": [
    "optimizer = tf.train.AdamOptimizer()\n",
    "train_op = slim.learning.create_train_op(total_loss, optimizer)\n",
    "\n",
    "checkpoint_path = 'pretrained/mobilenet/mobilenet_v2_1.0_224.ckpt'\n",
    "variables = slim.get_model_variables()\n",
    "restore_map = {}\n",
    "for v in variables:\n",
    "    if not v.name.startswith('MobilenetV2'):\n",
    "        continue\n",
    "    org_name = v.name.split(':')[0]\n",
    "    restore_map[org_name] = v\n",
    "    print(org_name, ':', v.name)\n",
    "init_assign_op, init_feed_dict = slim.assign_from_checkpoint(checkpoint_path, restore_map)"
   ]
  },
  {
   "cell_type": "code",
   "execution_count": 11,
   "metadata": {},
   "outputs": [],
   "source": [
    "!rm -r logs/mb_single_log_180708_045856"
   ]
  },
  {
   "cell_type": "code",
   "execution_count": 12,
   "metadata": {},
   "outputs": [],
   "source": [
    "import time, os, shutil\n",
    "log_dir=\"logs/mb_single_log_180708_045856\"\n",
    "#log_dir = 'logs/mb_single_log_' + time.strftime(\"%y%m%d_%H%M%S\", time.gmtime())\n",
    "os.mkdir(log_dir)"
   ]
  },
  {
   "cell_type": "code",
   "execution_count": null,
   "metadata": {
    "scrolled": false
   },
   "outputs": [
    {
     "name": "stdout",
     "output_type": "stream",
     "text": [
      "WARNING:tensorflow:From /home/ec2-user/anaconda3/envs/tensorflow_p36/lib/python3.6/site-packages/tensorflow/contrib/slim/python/slim/learning.py:736: Supervisor.__init__ (from tensorflow.python.training.supervisor) is deprecated and will be removed in a future version.\n",
      "Instructions for updating:\n",
      "Please switch to tf.train.MonitoredTrainingSession\n",
      "INFO:tensorflow:Running local_init_op.\n",
      "INFO:tensorflow:Done running local_init_op.\n",
      "INFO:tensorflow:Starting Session.\n",
      "INFO:tensorflow:Saving checkpoint to path logs/mb_single_log_180708_045856/model.ckpt\n",
      "INFO:tensorflow:Starting Queues.\n",
      "INFO:tensorflow:global_step/sec: 0\n",
      "INFO:tensorflow:Recording summary at step 0.\n",
      "INFO:tensorflow:global_step/sec: 0.455181\n",
      "INFO:tensorflow:Recording summary at step 27.\n",
      "INFO:tensorflow:global_step/sec: 0.550016\n",
      "INFO:tensorflow:Recording summary at step 60.\n",
      "INFO:tensorflow:global_step/sec: 0.546039\n",
      "INFO:tensorflow:Recording summary at step 93.\n",
      "INFO:tensorflow:global step 99: loss = 3.5820 (1.826 sec/step)\n",
      "INFO:tensorflow:global_step/sec: 0.54762\n",
      "INFO:tensorflow:Recording summary at step 126.\n",
      "INFO:tensorflow:global_step/sec: 0.532872\n",
      "INFO:tensorflow:Recording summary at step 158.\n",
      "INFO:tensorflow:global_step/sec: 0.549876\n",
      "INFO:tensorflow:Recording summary at step 191.\n",
      "INFO:tensorflow:global step 199: loss = 3.1477 (1.802 sec/step)\n",
      "INFO:tensorflow:global_step/sec: 0.557128\n",
      "INFO:tensorflow:Recording summary at step 224.\n",
      "INFO:tensorflow:global_step/sec: 0.545853\n",
      "INFO:tensorflow:Recording summary at step 257.\n"
     ]
    },
    {
     "name": "stderr",
     "output_type": "stream",
     "text": [
      "Exception in thread Thread-5:\n",
      "Traceback (most recent call last):\n",
      "  File \"/home/ec2-user/anaconda3/envs/tensorflow_p36/lib/python3.6/threading.py\", line 916, in _bootstrap_inner\n",
      "    self.run()\n",
      "  File \"/home/ec2-user/anaconda3/envs/tensorflow_p36/lib/python3.6/threading.py\", line 864, in run\n",
      "    self._target(*self._args, **self._kwargs)\n",
      "  File \"/home/ec2-user/personlab/surreal0.py\", line 183, in _process\n",
      "    res = self.transformer.run(frames, kp_list, kp_idx, kp_seg)\n",
      "  File \"/home/ec2-user/personlab/transformer.py\", line 73, in run\n",
      "    mo_y = np.zeros([num_frame, config.TAR_H, config.TAR_W, surreal.NUM_EDGE]).astype(np.int16)\n",
      "MemoryError\n",
      "\n"
     ]
    },
    {
     "name": "stdout",
     "output_type": "stream",
     "text": [
      "INFO:tensorflow:global_step/sec: 0.547821\n",
      "INFO:tensorflow:Recording summary at step 290.\n",
      "INFO:tensorflow:global step 299: loss = 3.0869 (1.827 sec/step)\n",
      "INFO:tensorflow:Saving checkpoint to path logs/mb_single_log_180708_045856/model.ckpt\n",
      "INFO:tensorflow:Recording summary at step 322.\n",
      "INFO:tensorflow:Recording summary at step 355.\n"
     ]
    }
   ],
   "source": [
    "def InitAssignFn(sess):\n",
    "    sess.run(init_assign_op, init_feed_dict)\n",
    "    \n",
    "with tf.contrib.slim.arg_scope(mobilenet_v2.training_scope(is_training=True)):\n",
    "    tf.contrib.slim.learning.train(train_op,\n",
    "                                   log_dir,\n",
    "                                   init_fn=InitAssignFn,\n",
    "                                   log_every_n_steps=100,\n",
    "                                   save_summaries_secs=60,\n",
    "                                  )"
   ]
  },
  {
   "cell_type": "code",
   "execution_count": null,
   "metadata": {},
   "outputs": [],
   "source": [
    "######################################################################\n",
    "######################################################################\n",
    "######################################################################\n",
    "######################################################################\n",
    "######################################################################\n",
    "######################################################################"
   ]
  },
  {
   "cell_type": "code",
   "execution_count": 1,
   "metadata": {},
   "outputs": [
    {
     "ename": "NameError",
     "evalue": "name 'tf' is not defined",
     "output_type": "error",
     "traceback": [
      "\u001b[0;31m---------------------------------------------------------------------------\u001b[0m",
      "\u001b[0;31mNameError\u001b[0m                                 Traceback (most recent call last)",
      "\u001b[0;32m<ipython-input-1-d43e3548f0a9>\u001b[0m in \u001b[0;36m<module>\u001b[0;34m()\u001b[0m\n\u001b[1;32m      1\u001b[0m \u001b[0;34m\u001b[0m\u001b[0m\n\u001b[0;32m----> 2\u001b[0;31m \u001b[0msaver\u001b[0m \u001b[0;34m=\u001b[0m \u001b[0mtf\u001b[0m\u001b[0;34m.\u001b[0m\u001b[0mtrain\u001b[0m\u001b[0;34m.\u001b[0m\u001b[0mSaver\u001b[0m\u001b[0;34m(\u001b[0m\u001b[0;34m)\u001b[0m\u001b[0;34m\u001b[0m\u001b[0m\n\u001b[0m\u001b[1;32m      3\u001b[0m \u001b[0mcheckpoint_path\u001b[0m \u001b[0;34m=\u001b[0m \u001b[0;34m'/Users/minsubsim/work/personlab/archive/mb_single_log_180707_005358/model.ckpt-28629/model.ckpt-28629'\u001b[0m\u001b[0;34m\u001b[0m\u001b[0m\n\u001b[1;32m      4\u001b[0m \u001b[0;32mwith\u001b[0m \u001b[0mtf\u001b[0m\u001b[0;34m.\u001b[0m\u001b[0mSession\u001b[0m\u001b[0;34m(\u001b[0m\u001b[0;34m)\u001b[0m \u001b[0;32mas\u001b[0m \u001b[0msess\u001b[0m\u001b[0;34m:\u001b[0m\u001b[0;34m\u001b[0m\u001b[0m\n\u001b[1;32m      5\u001b[0m     \u001b[0msaver\u001b[0m\u001b[0;34m.\u001b[0m\u001b[0mrestore\u001b[0m\u001b[0;34m(\u001b[0m\u001b[0msess\u001b[0m\u001b[0;34m,\u001b[0m \u001b[0mcheckpoint_path\u001b[0m\u001b[0;34m)\u001b[0m\u001b[0;34m\u001b[0m\u001b[0m\n",
      "\u001b[0;31mNameError\u001b[0m: name 'tf' is not defined"
     ]
    }
   ],
   "source": [
    "\n",
    "saver = tf.train.Saver()\n",
    "checkpoint_path = '/Users/minsubsim/work/personlab/archive/mb_single_log_180707_005358/model.ckpt-28629/model.ckpt-28629'\n",
    "with tf.Session() as sess:\n",
    "    saver.restore(sess, checkpoint_path)\n",
    "    m_out, img, hm, so_x, so_y, mo_x, mo_y = sess.run([model_output, tensors['image'], hm_pred, so_x_pred, so_y_pred, mo_x_pred, mo_y_pred])\n"
   ]
  }
 ],
 "metadata": {
  "accelerator": "GPU",
  "colab": {
   "collapsed_sections": [],
   "default_view": {},
   "name": "mobilenet-single.ipynb",
   "private_outputs": true,
   "provenance": [],
   "version": "0.3.2",
   "views": {}
  },
  "kernelspec": {
   "display_name": "Python 3",
   "language": "python",
   "name": "python3"
  },
  "language_info": {
   "codemirror_mode": {
    "name": "ipython",
    "version": 3
   },
   "file_extension": ".py",
   "mimetype": "text/x-python",
   "name": "python",
   "nbconvert_exporter": "python",
   "pygments_lexer": "ipython3",
   "version": "3.6.5"
  }
 },
 "nbformat": 4,
 "nbformat_minor": 1
}
